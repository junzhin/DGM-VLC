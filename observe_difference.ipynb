{
 "cells": [
  {
   "cell_type": "code",
   "execution_count": null,
   "metadata": {},
   "outputs": [],
   "source": [
    "import os\n",
    "import nibabel as nib\n",
    "import matplotlib.pyplot as plt\n",
    "import numpy as np\n",
    "\n",
    "fname = \"xxxxx.nii.gz\"\n",
    "# make sure they has the same name\n",
    "fpath_0 = 'path1_to_your_nii_folder'\n",
    "fpath_1 = 'path2_to_your_nii_folder'\n",
    "\n",
    "# Load the images\n",
    "img_0 = nib.load(os.path.join(fpath_0, fname)).get_fdata()\n",
    "img_1 = nib.load(os.path.join(fpath_1, fname)).get_fdata()\n",
    "\n",
    "# Calculate the absolute difference for each slice and the sum across the z-axis\n",
    "diff =  img_0 - img_1\n",
    "abs_diff_sum = np.sum(diff, axis=(0, 1))\n",
    "\n",
    "# Find the indices of the top 5 slices with the maximum sum of absolute differences\n",
    "top_indices = np.argsort(-abs_diff_sum)[:5]\n",
    "\n",
    "# Ask the user for an index to visualize\n",
    "index = 63 \n",
    "\n",
    "plt.figure(figsize=(20, 10))\n",
    "\n",
    "# First image at the given index\n",
    "plt.subplot(1, 4, 1)\n",
    "plt.imshow(img_0[:,:,index], cmap='gray')\n",
    "plt.axis('off')\n",
    "\n",
    "# Second image at the given index\n",
    "plt.subplot(1, 4, 2)\n",
    "plt.imshow(img_1[:,:,index], cmap='gray')\n",
    "plt.axis('off')\n",
    "\n",
    " \n",
    "# Sum of absolute differences along the z-axis\n",
    "ax = plt.subplot(1, 4, 4)\n",
    "im = plt.imshow(diff[:,:, index], cmap='jet')\n",
    "plt.axis('off')\n",
    "\n",
    "max_val = np.max(diff[:,:,index])\n",
    "min_val = np.min(diff[:,:,index])\n",
    " \n",
    "plt.clim(min_val, max_val * 0.5)\n",
    "\n",
    "# Create an axis for the colorbar\n",
    "cbar_ax = plt.axes([0.91, 0.15, 0.01, 0.7])  # Adjust the position and size as needed\n",
    "plt.colorbar(im, cax=cbar_ax)\n",
    "\n",
    "plt.suptitle('Visualization of Differences')\n",
    "plt.show()\n",
    "\n",
    "# Print the top 5 slice indices\n",
    "print(f\"Top 5 slices with maximum sum of absolute differences (z-axis indices): {top_indices}\")"
   ]
  }
 ],
 "metadata": {
  "kernelspec": {
   "display_name": "base",
   "language": "python",
   "name": "python3"
  },
  "language_info": {
   "codemirror_mode": {
    "name": "ipython",
    "version": 3
   },
   "file_extension": ".py",
   "mimetype": "text/x-python",
   "name": "python",
   "nbconvert_exporter": "python",
   "pygments_lexer": "ipython3",
   "version": "3.11.5"
  }
 },
 "nbformat": 4,
 "nbformat_minor": 2
}
