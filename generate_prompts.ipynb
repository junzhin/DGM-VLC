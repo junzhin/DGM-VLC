{
 "cells": [
  {
   "cell_type": "code",
   "execution_count": null,
   "metadata": {},
   "outputs": [],
   "source": [
    "import pandas as pd\n",
    "import numpy as np"
   ]
  },
  {
   "cell_type": "code",
   "execution_count": null,
   "metadata": {},
   "outputs": [],
   "source": [
    "file = \"../path_to_data/data_info.xlsx\"\n",
    "\n",
    "df = pd.read_excel(file)"
   ]
  },
  {
   "cell_type": "code",
   "execution_count": null,
   "metadata": {},
   "outputs": [],
   "source": [
    "attributes = [\n",
    "    \"Mapping ID\",\n",
    "    \"DIAGNOSIS\",\n",
    "    \"label\",\n",
    "    \"AGE\",\n",
    "    \"SEX\",\n",
    "    \"TYPE CTD\",\n",
    "    \"TYPE CTD OTHER\",\n",
    "    \"SMOKING HISTORY\",\n",
    "    \"CTD DIAG DATE\",\n",
    "    \"PACK-YEARS\",\n",
    "    \"SMOKING HISTORY STOP DATE\",\n",
    "    \"RISK OCCUPATIONAL\", \n",
    "    \"RISK ENVIRONMENTAL\", \n",
    "    \"RISK PRECIPITINS\", \n",
    "    \"FAMILIAL PF AND/OR RARE VARIANT\", \n",
    "]"
   ]
  },
  {
   "cell_type": "code",
   "execution_count": null,
   "metadata": {},
   "outputs": [],
   "source": [
    "subset_df = df[attributes]"
   ]
  },
  {
   "cell_type": "code",
   "execution_count": null,
   "metadata": {},
   "outputs": [],
   "source": [
    "subset_df[\"label\"] = subset_df[\"label\"].replace({1: \"Alive\", 0: \"Dead\"})\n",
    "subset_df.rename(\n",
    "    columns={\"label\": \"State of (Dead/Alive) within one year\"}, inplace=True\n",
    ")"
   ]
  },
  {
   "cell_type": "code",
   "execution_count": null,
   "metadata": {},
   "outputs": [],
   "source": [
    "subset_df[\"PACK-YEARS\"] = subset_df[\"PACK-YEARS\"].replace(\n",
    "    {99999.0: np.nan, 0.0: np.nan}\n",
    ")"
   ]
  },
  {
   "cell_type": "code",
   "execution_count": null,
   "metadata": {},
   "outputs": [],
   "source": [
    "subset_df[\"SMOKING HISTORY STOP DATE\"] = subset_df[\"SMOKING HISTORY STOP DATE\"].replace(\n",
    "    {99999.0: np.nan, 0.0: np.nan}\n",
    ")\n",
    "# Correcting negative values in 'SMOKING HISTORY STOP DATE' column\n",
    "subset_df.loc[\n",
    "    subset_df[\"SMOKING HISTORY STOP DATE\"] < 0, \"SMOKING HISTORY STOP DATE\"\n",
    "] = subset_df.loc[\n",
    "    subset_df[\"SMOKING HISTORY STOP DATE\"] < 0, \"SMOKING HISTORY STOP DATE\"\n",
    "].abs()"
   ]
  },
  {
   "cell_type": "code",
   "execution_count": null,
   "metadata": {},
   "outputs": [],
   "source": [
    "subset_df[\"TYPE CTD\"] = subset_df[\"TYPE CTD\"].replace({\"Not Available\": np.nan})"
   ]
  },
  {
   "cell_type": "code",
   "execution_count": null,
   "metadata": {},
   "outputs": [],
   "source": [
    "prompt_results = {}\n",
    "\n",
    "special_dealing = {\n",
    "    \"SMOKING HISTORY STOP DATE\": \"Stopped smoking {} days ago.\",\n",
    "    \"AGE\": \"Patient age: {}.\",\n",
    "    \"SEX\": lambda x: (\n",
    "        \"Gender: Male.\"\n",
    "        if x == \"M\"\n",
    "        else (\"Gender: Female.\" if x == \"F\" else \"Gender: Unspecified.\")\n",
    "    ),\n",
    "    \"TYPE CTD\": \"CTD diagnosis: {}.\",\n",
    "    \"PACK-YEARS\": \"{}\",\n",
    "    \"RISK OCCUPATIONAL\": lambda x: (\n",
    "        \"Occupational exposure present.\" if x == \"Yes\" else \"No occupational exposure.\"\n",
    "    ),\n",
    "    \"RISK ENVIRONMENTAL\": lambda x: (\n",
    "        \"Environmental risk factors present.\" if x == \"Yes\" else \" \"\n",
    "    ),\n",
    "    \"CTD DIAG DATE\": lambda x: f\"CTD diagnosed {abs(x)} days ago.\",\n",
    "}\n",
    "\n",
    "\n",
    "# Assuming 'subset_df' is your DataFrame\n",
    "for index in range(len(subset_df)):\n",
    "    row = subset_df.iloc[index]\n",
    "\n",
    "    # Generate the prompt, skipping attributes with NaN values\n",
    "    prompt_parts = []\n",
    "    for attr in subset_df.columns:\n",
    "        if attr != \"Mapping ID\" and not pd.isna(row[attr]):\n",
    "            if attr in special_dealing:\n",
    "                special_format = special_dealing[attr]\n",
    "                # Check if the special handling is a function and call it\n",
    "                if callable(special_format):\n",
    "                    prompt_parts.append(special_format(row[attr]))\n",
    "                else:\n",
    "                    prompt_parts.append(special_format.format(row[attr]))\n",
    "            else:\n",
    "                # Standard format for other attributes\n",
    "                prompt_parts.append(f\"{attr} is {row[attr]},\")\n",
    "\n",
    "    prompt = \"Lung CT scan : \" + \" \".join(prompt_parts).rstrip(\",\") + \".\"\n",
    "\n",
    "    # Store the generated prompt using 'Mapping ID' as the key\n",
    "    prompt_results[row[\"Mapping ID\"]] = prompt\n",
    "    print(prompt)"
   ]
  },
  {
   "cell_type": "code",
   "execution_count": null,
   "metadata": {},
   "outputs": [],
   "source": [
    "print(\"prompt_results: \", prompt_results)\n",
    "prompt_results_list = [\n",
    "    (file_name, prompt) for file_name, prompt in prompt_results.items()\n",
    "]"
   ]
  },
  {
   "cell_type": "code",
   "execution_count": null,
   "metadata": {},
   "outputs": [],
   "source": [
    "prompt_results_df = pd.DataFrame(prompt_results_list, columns=[\"File Name\", \"Prompt\"])"
   ]
  },
  {
   "cell_type": "code",
   "execution_count": null,
   "metadata": {},
   "outputs": [],
   "source": [
    "one = list(\n",
    "    prompt_results_df[prompt_results_df[\"File Name\"] == \"AIIB23_4.nii.gz\"].Prompt\n",
    ")\n",
    "print(one)"
   ]
  },
  {
   "cell_type": "code",
   "execution_count": null,
   "metadata": {},
   "outputs": [],
   "source": [
    "prompt_results_df.to_csv(\n",
    "    \"../path_to_data/data_info_all_prompts.csv\"\n",
    ")"
   ]
  }
 ],
 "metadata": {
  "kernelspec": {
   "display_name": "base",
   "language": "python",
   "name": "python3"
  },
  "language_info": {
   "codemirror_mode": {
    "name": "ipython",
    "version": 3
   },
   "file_extension": ".py",
   "mimetype": "text/x-python",
   "name": "python",
   "nbconvert_exporter": "python",
   "pygments_lexer": "ipython3",
   "version": "3.11.5"
  }
 },
 "nbformat": 4,
 "nbformat_minor": 2
}
